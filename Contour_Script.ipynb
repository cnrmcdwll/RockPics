{
 "cells": [
  {
   "cell_type": "code",
   "execution_count": 1,
   "metadata": {
    "collapsed": true
   },
   "outputs": [],
   "source": [
    "import numpy as np\n",
    "import os\n",
    "import pylab\n",
    "import skimage\n",
    "from skimage import io, filters, exposure, morphology, data, measure, segmentation, color\n",
    "from skimage.morphology import watershed\n",
    "from skimage.feature import peak_local_max\n",
    "from skimage.filters import sobel\n",
    "from skimage.segmentation import active_contour\n",
    "from skimage.measure import moments\n",
    "import matplotlib.pyplot as plt\n",
    "from matplotlib.pyplot import imshow\n",
    "from scipy import ndimage as ndi\n",
    "import math"
   ]
  },
  {
   "cell_type": "code",
   "execution_count": 2,
   "metadata": {
    "collapsed": false
   },
   "outputs": [],
   "source": [
    "INIT_DIR = os.getcwd()\n",
    "IMAGE_DIR = INIT_DIR + '/GoodImages/'\n",
    "os.chdir(IMAGE_DIR)\n",
    "filelist = os.listdir()\n",
    "os.chdir(INIT_DIR)\n",
    "imagelist = []\n",
    "for img in filelist:\n",
    "    imagelist.append(IMAGE_DIR + img)"
   ]
  },
  {
   "cell_type": "markdown",
   "metadata": {},
   "source": [
    "## Find Contours of Supplied Image"
   ]
  },
  {
   "cell_type": "code",
   "execution_count": 3,
   "metadata": {
    "collapsed": true
   },
   "outputs": [],
   "source": [
    "def bad_contours(contours):\n",
    "    goodcon = np.argmax([len(c) for c in contours])\n",
    "    return(contours[goodcon])"
   ]
  },
  {
   "cell_type": "code",
   "execution_count": 4,
   "metadata": {
    "collapsed": false
   },
   "outputs": [],
   "source": [
    "# Import image and plot grayscale histogram\n",
    "def rockedges(image):\n",
    "    # Read in image\n",
    "    rock = io.imread(image)\n",
    "    # convert to greyscale as our rocks have strange colors\n",
    "    rockgray = color.rgb2gray(rock)\n",
    "    # adjust the exposure as the lighting doesn't do a great job\n",
    "    # of making the shadow/rock dilenation obvious\n",
    "    rockgray = exposure.adjust_gamma(rockgray, gamma=.5, gain = 1)\n",
    "    # smooth edges\n",
    "    rockgray = filters.gaussian(rockgray, 6)\n",
    "    # the numerical value (.2) here probably needs to change and is arbitrary.\n",
    "    # I need to take new pictures as the lighting in the ones I have makes it hard to seperate \n",
    "    # shadow from painted rock color\n",
    "    mask = rockgray > .2\n",
    "    # prep to watershed segment the image\n",
    "    elevationmap = sobel(rockgray)\n",
    "    markers = np.zeros_like(rockgray)\n",
    "    markers[rockgray < .2] = 1\n",
    "    markers[rockgray > .2] = 2\n",
    "    # watershed segmentation\n",
    "    segmentation = morphology.watershed(elevationmap, markers)\n",
    "    # find watershed contours\n",
    "    cons = skimage.measure.find_contours(segmentation, 1)\n",
    "    contour = bad_contours(cons)\n",
    "    return contour, rockgray, rock"
   ]
  },
  {
   "cell_type": "code",
   "execution_count": 5,
   "metadata": {
    "collapsed": false
   },
   "outputs": [],
   "source": [
    "## find the center of mass\n",
    "def center_mass(rockgray, contour):\n",
    "    img = np.zeros_like(rockgray)\n",
    "    x = contour[:,1]\n",
    "    y = contour[:,0]\n",
    "    rr, cc = skimage.draw.polygon(y,x)\n",
    "    img[rr,cc] = 1\n",
    "    m = moments(img)\n",
    "    cc = m[0,1]/m[0,0]\n",
    "    cr = m[1,0]/m[0,0]\n",
    "    return cc, cr"
   ]
  },
  {
   "cell_type": "code",
   "execution_count": 6,
   "metadata": {
    "collapsed": false
   },
   "outputs": [],
   "source": [
    "def radius_angle(contour, cr, cc):\n",
    "    radii = []\n",
    "    angles = []\n",
    "    y1 = contour[0][1]\n",
    "    x1 = contour[0][0]\n",
    "    for x, y in contour:\n",
    "        radii.append(np.sqrt((cc - x)**2 + (cr - y)**2))\n",
    "        angles.append(math.atan2((y1 - y), (x1 - x)))\n",
    "    return radii, angles"
   ]
  },
  {
   "cell_type": "code",
   "execution_count": 7,
   "metadata": {
    "collapsed": true
   },
   "outputs": [],
   "source": [
    "def radius_plotter(rock, contour, cc, cr, rad, ang, name):\n",
    "    fig, (ax1, ax2) = plt.subplots(1, 2)\n",
    "    ax1.imshow(rock)\n",
    "    ax1.plot(contour[:, 1], contour[:, 0], linewidth=3, color = 'white')\n",
    "    ax1.plot(cc, cr, color = 'white')\n",
    "    ax2.scatter(ang, rad)\n",
    "    ax2.set_ylabel('Radius (pixels)')\n",
    "    ax2.set_xlabel('Angle (Radians)')\n",
    "    plt.title(name)\n",
    "    plt.savefig(name + '.pdf')\n",
    "    plt.close()"
   ]
  },
  {
   "cell_type": "code",
   "execution_count": 8,
   "metadata": {
    "collapsed": true
   },
   "outputs": [],
   "source": [
    "def analyze_images(imagelist):\n",
    "    n = 0\n",
    "    INIT_DIR = os.getcwd()\n",
    "    for img in imagelist:\n",
    "        name = str(n)\n",
    "        print('Working through image', name)\n",
    "        contour, rockgray, rock = rockedges(img)\n",
    "        cc, cr = center_mass(rockgray, contour)\n",
    "        radii, angles = radius_angle(contour, cr, cc)\n",
    "        radius_plotter(rock, contour, cc, cr, radii, angles, name)\n",
    "        n = n + 1\n",
    "    return"
   ]
  },
  {
   "cell_type": "code",
   "execution_count": 9,
   "metadata": {
    "collapsed": false
   },
   "outputs": [
    {
     "name": "stdout",
     "output_type": "stream",
     "text": [
      "Working through image 0\n",
      "Working through image 1\n",
      "Working through image 2\n",
      "Working through image 3\n",
      "Working through image 4\n",
      "Working through image 5\n",
      "Working through image 6\n",
      "Working through image 7\n",
      "Working through image 8\n",
      "Working through image 9\n",
      "Working through image 10\n",
      "Working through image 11\n",
      "Working through image 12\n",
      "Working through image 13\n"
     ]
    }
   ],
   "source": [
    "analyze_images(imagelist)"
   ]
  },
  {
   "cell_type": "code",
   "execution_count": null,
   "metadata": {
    "collapsed": true
   },
   "outputs": [],
   "source": []
  }
 ],
 "metadata": {
  "kernelspec": {
   "display_name": "Python 3",
   "language": "python",
   "name": "python3"
  },
  "language_info": {
   "codemirror_mode": {
    "name": "ipython",
    "version": 3
   },
   "file_extension": ".py",
   "mimetype": "text/x-python",
   "name": "python",
   "nbconvert_exporter": "python",
   "pygments_lexer": "ipython3",
   "version": "3.5.1"
  }
 },
 "nbformat": 4,
 "nbformat_minor": 0
}
